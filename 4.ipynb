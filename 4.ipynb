{
 "cells": [
  {
   "cell_type": "code",
   "execution_count": null,
   "id": "d81ec939",
   "metadata": {},
   "outputs": [],
   "source": [
    "from sklearn.preprocessing import LabelEncoder\n",
    "\n",
    "# Sample data\n",
    "colors = ['red', 'green', 'blue']\n",
    "sizes = ['small', 'medium', 'large']\n",
    "materials = ['wood', 'metal', 'plastic']\n",
    "\n",
    "# Initialize the LabelEncoder\n",
    "le = LabelEncoder()\n",
    "\n",
    "# Perform label encoding on each categorical variable\n",
    "encoded_colors = le.fit_transform(colors)\n",
    "encoded_sizes = le.fit_transform(sizes)\n",
    "encoded_materials = le.fit_transform(materials)\n",
    "\n",
    "# Output the encoded values\n",
    "print(\"Encoded Colors:\", encoded_colors)\n",
    "print(\"Encoded Sizes:\", encoded_sizes)\n",
    "print(\"Encoded Materials:\", encoded_materials)\n"
   ]
  },
  {
   "cell_type": "markdown",
   "id": "b65404a3",
   "metadata": {},
   "source": [
    "Explanation of the Output:\n",
    "\n",
    "Encoded Colors: The LabelEncoder assigns a unique integer to each unique string in the order they are seen. For instance, if the order is 'red', 'green', 'blue', 'red' might be assigned 0, 'green' 1, and 'blue' 2.\n",
    "\n",
    "Encoded Sizes: Similarly, 'small', 'medium', and 'large' will be assigned integers. Since 'small' appears first, it might get 0, 'medium' 1, and 'large' 2.\n",
    "\n",
    "Encoded Materials: The same principle applies here. Each material type ('wood', 'metal', 'plastic') is assigned a unique integer."
   ]
  }
 ],
 "metadata": {
  "kernelspec": {
   "display_name": "Python 3 (ipykernel)",
   "language": "python",
   "name": "python3"
  },
  "language_info": {
   "codemirror_mode": {
    "name": "ipython",
    "version": 3
   },
   "file_extension": ".py",
   "mimetype": "text/x-python",
   "name": "python",
   "nbconvert_exporter": "python",
   "pygments_lexer": "ipython3",
   "version": "3.10.9"
  }
 },
 "nbformat": 4,
 "nbformat_minor": 5
}
